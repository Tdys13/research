{
 "cells": [
  {
   "cell_type": "code",
   "execution_count": null,
   "metadata": {
    "collapsed": true
   },
   "outputs": [],
   "source": [
    "import os\n",
    "import time\n",
    "import numpy as np\n",
    "import pandas as pd\n",
    "import sys\n",
    "import mhd_utils_3d \n",
    "import matplotlib.pyplot as plt\n",
    "from struct import *\n",
    "from PIL import Image\n",
    "\n",
    "import csv \n",
    "import pickle\n",
    "import glob\n",
    "import random\n",
    "\n",
    "import theano\n",
    "import theano.tensor as T"
   ]
  },
  {
   "cell_type": "code",
   "execution_count": null,
   "metadata": {
    "collapsed": true
   },
   "outputs": [],
   "source": [
    "pkl_data = '/home/dl-box/Liver/create_bin/1010_newdata/test1_422.pkl'\n",
    "\n",
    "listData=[]\n",
    "intensity=0 \n",
    "label=0 \n",
    "\n",
    "train_listData_intensity=[]\n",
    "train_listData_label=[]\n",
    "\n",
    "valid_listData_intensity=[]\n",
    "valid_listData_label=[]\n",
    "\n",
    "test_listData_intensity=[]\n",
    "test_listData_label=[]"
   ]
  },
  {
   "cell_type": "code",
   "execution_count": null,
   "metadata": {
    "collapsed": true
   },
   "outputs": [],
   "source": [
    "image_array1, meta_header1 = mhd_utils_3d.load_raw_data_with_mhd('img/data/data422.mhd')\n",
    "image_array2, meta_header2 = mhd_utils_3d.load_raw_data_with_mhd('img/liver/LiverMask_Srr422_PV.mhd') \n",
    "image_array3, meta_header3 = mhd_utils_3d.load_raw_data_with_mhd('img/tumor/TumorMask_Srr422_PV.mhd')\n",
    "data_indx=0\n",
    "chose_i=[]\n",
    "chose_l=[]\n",
    "Data_intensity=[]\n",
    "Data_label=[]\n",
    "\n",
    "gutr_intensity=[]\n",
    "gutr_label=[]\n",
    "guval_intensity=[]\n",
    "guval_label=[]\n",
    "\n",
    "for z in range(0,image_array1.shape[0]):\n",
    "    for y in range(0,image_array1.shape[1]):\n",
    "        for x in range(0,image_array1.shape[2]):       \n",
    "            if image_array2[z][y][x] == 1:\n",
    "                if image_array3[z][y][x] == 1:\n",
    "                    break\n",
    "                else:    \n",
    "                    data_indx += 1\n",
    "                    new_img1 = ((image_array1[z,y-14:y+15,x-14:x+15]*1.0)/256)\n",
    "                    intensity1 = new_img1.reshape((1,841))\n",
    "                    label_L = 0\n",
    "                    #print label_v\n",
    "                    chose_i.append(intensity1)\n",
    "                    chose_l.append(label_L)"
   ]
  },
  {
   "cell_type": "code",
   "execution_count": null,
   "metadata": {
    "collapsed": true
   },
   "outputs": [],
   "source": [
    "data_indx = 0\n",
    "\n",
    "chose_i=[]\n",
    "chose_l=[]\n",
    "Data_intensity=[]\n",
    "Data_label=[]\n",
    "\n",
    "kitr_intensity=[]\n",
    "kitr_label=[]\n",
    "kival_intensity=[]\n",
    "kival_label=[]\n",
    "\n",
    "for z in range(0,image_array1.shape[0]):\n",
    "    for y in range(0,image_array1.shape[1]):\n",
    "        for x in range(0,image_array1.shape[2]):       \n",
    "            if image_array3[z][y][x] == 1:\n",
    "                data_indx += 1\n",
    "                new_img1 = ((image_array1[z,y-14:y+15,x-14:x+15]*1.0)/256)\n",
    "                intensity1 = new_img1.reshape((1,841))\n",
    "                label_T = 1\n",
    "                chose_i.append(intensity1)\n",
    "                chose_l.append(label_T)\n",
    " "
   ]
  },
  {
   "cell_type": "code",
   "execution_count": null,
   "metadata": {
    "collapsed": true
   },
   "outputs": [],
   "source": [
    "valid_listData=[]\n",
    "test_listData=[]\n",
    "train_listData=[]\n",
    "listData=[]\n",
    "\n",
    "valid_listData.append(valid_listData_intensity)\n",
    "valid_listData.append(valid_listData_label)\n",
    "\n",
    "test_listData.append(test_listData_intensity)\n",
    "test_listData.append(test_listData_label)\n",
    "\n",
    "train_listData.append(train_listData_intensity)\n",
    "train_listData.append(train_listData_label)\n",
    "\n",
    "listData.append(train_listData)\n",
    "listData.append(valid_listData)\n",
    "listData.append(test_listData)\n",
    "\n",
    "pickle.dump(listData, open(pkl_data,\"w\"))\n",
    "\n",
    "print(\"---finish---\")"
   ]
  },
  {
   "cell_type": "code",
   "execution_count": null,
   "metadata": {
    "collapsed": true
   },
   "outputs": [],
   "source": []
  }
 ],
 "metadata": {
  "kernelspec": {
   "display_name": "Python 2",
   "language": "python",
   "name": "python2"
  },
  "language_info": {
   "codemirror_mode": {
    "name": "ipython",
    "version": 2
   },
   "file_extension": ".py",
   "mimetype": "text/x-python",
   "name": "python",
   "nbconvert_exporter": "python",
   "pygments_lexer": "ipython2",
   "version": "2.7.13"
  }
 },
 "nbformat": 4,
 "nbformat_minor": 0
}
