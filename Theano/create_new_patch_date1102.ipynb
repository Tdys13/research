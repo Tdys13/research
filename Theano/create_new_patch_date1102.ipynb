{
 "cells": [
  {
   "cell_type": "code",
   "execution_count": 2,
   "metadata": {
    "collapsed": false
   },
   "outputs": [
    {
     "name": "stderr",
     "output_type": "stream",
     "text": [
      "Using gpu device 0: GeForce GTX TITAN X\n"
     ]
    }
   ],
   "source": [
    "import os\n",
    "import time\n",
    "import numpy as np\n",
    "import pandas as pd\n",
    "import sys\n",
    "import mhd_utils_3d \n",
    "import mhd_utils_3d_short\n",
    "import mhd_utils_3d_ushort\n",
    "import matplotlib.pyplot as plt\n",
    "from struct import *\n",
    "from PIL import Image\n",
    "\n",
    "import csv \n",
    "import pickle\n",
    "import glob\n",
    "import random\n",
    "\n",
    "import theano\n",
    "import theano.tensor as T"
   ]
  },
  {
   "cell_type": "code",
   "execution_count": 2,
   "metadata": {
    "collapsed": true
   },
   "outputs": [],
   "source": [
    "pkl_data = \"/home/dl-box/Liver/sotsuron_data/Cyst106_NC_classificate.pkl\"\n",
    "\n",
    "listData=[]\n",
    "intensity=0 \n",
    "label=0 \n",
    "\n",
    "train_listData_intensity=[]\n",
    "train_listData_label=[]\n",
    "\n",
    "valid_listData_intensity=[]\n",
    "valid_listData_label=[]\n",
    "\n",
    "test_listData_intensity=[]\n",
    "test_listData_label=[]"
   ]
  },
  {
   "cell_type": "markdown",
   "metadata": {},
   "source": [
    "↓数確認"
   ]
  },
  {
   "cell_type": "code",
   "execution_count": 4,
   "metadata": {
    "collapsed": false
   },
   "outputs": [],
   "source": [
    "path = \"/home/dl-box/Liver/Cyst_data1102/liver_data\"\n",
    "image_array1, meta_header1 = mhd_utils_3d_short.load_raw_data_with_mhd(path+'/data_000_050/data050.mhd')\n",
    "image_array2, meta_header2 = mhd_utils_3d_ushort.load_raw_data_with_mhd(path+'/LiverMask_000_050/LiverMask_Srr050_PV.mhd') \n",
    "image_array3, meta_header3 = mhd_utils_3d_ushort.load_raw_data_with_mhd(path+'/TumorMask_000_050/TumorMask_Srr050_PV.mhd')\n",
    "data_indx=0\n",
    "chose_i=[]\n",
    "chose_l=[]\n",
    "Data_intensity=[]\n",
    "Data_label=[]\n",
    "\n",
    "gutr_intensity=[]\n",
    "gutr_label=[]\n",
    "guval_intensity=[]\n",
    "guval_label=[]\n",
    "\n",
    "for z in range(0,image_array1.shape[0]):\n",
    "    for y in range(0,image_array1.shape[1]):\n",
    "        for x in range(0,image_array1.shape[2]):       \n",
    "            if image_array2[z][y][x] == 1:\n",
    "                if image_array3[z][y][x] == 1:\n",
    "                    break\n",
    "                else:    \n",
    "                    data_indx += 1\n",
    "                    new_img1 = ((image_array1[z,y-14:y+15,x-14:x+15]*1.0)/256)\n",
    "                    intensity1 = new_img1.reshape((1,841))\n",
    "                    label_L = 0\n",
    "                    chose_i.append(intensity1)\n",
    "                    chose_l.append(label_L)"
   ]
  },
  {
   "cell_type": "code",
   "execution_count": 5,
   "metadata": {
    "collapsed": false
   },
   "outputs": [
    {
     "data": {
      "text/plain": [
       "348892"
      ]
     },
     "execution_count": 5,
     "metadata": {},
     "output_type": "execute_result"
    }
   ],
   "source": [
    "data_indx"
   ]
  },
  {
   "cell_type": "code",
   "execution_count": 51,
   "metadata": {
    "collapsed": true
   },
   "outputs": [],
   "source": [
    "data_indx = 0\n",
    "\n",
    "chose_i=[]\n",
    "chose_l=[]\n",
    "Data_intensity=[]\n",
    "Data_label=[]\n",
    "\n",
    "kitr_intensity=[]\n",
    "kitr_label=[]\n",
    "kival_intensity=[]\n",
    "kival_label=[]\n",
    "\n",
    "for z in range(0,image_array1.shape[0]):\n",
    "    for y in range(0,image_array1.shape[1]):\n",
    "        for x in range(0,image_array1.shape[2]):       \n",
    "            if image_array3[z][y][x] == 1:\n",
    "                data_indx += 1\n",
    "                new_img1 = ((image_array1[z,y-14:y+15,x-14:x+15]*1.0)/256)\n",
    "                intensity1 = new_img1.reshape((1,841))\n",
    "                label_T = 1\n",
    "                chose_i.append(intensity1)\n",
    "                chose_l.append(label_T)\n",
    " "
   ]
  },
  {
   "cell_type": "code",
   "execution_count": 52,
   "metadata": {
    "collapsed": false
   },
   "outputs": [
    {
     "data": {
      "text/plain": [
       "16814"
      ]
     },
     "execution_count": 52,
     "metadata": {},
     "output_type": "execute_result"
    }
   ],
   "source": [
    "data_indx"
   ]
  },
  {
   "cell_type": "markdown",
   "metadata": {},
   "source": [
    "---create the new dataset---"
   ]
  },
  {
   "cell_type": "code",
   "execution_count": 30,
   "metadata": {
    "collapsed": true
   },
   "outputs": [],
   "source": [
    "path = \"/home/dl-box/Liver/Cyst_data1016\"\n",
    "image_array1, meta_header1 = mhd_utils_3d.load_raw_data_with_mhd(path+'/Cyst_data/data110.mhd')\n",
    "image_array2, meta_header2 = mhd_utils_3d.load_raw_data_with_mhd(path+'/Cyst_PV_Liver/LiverMask_Srr110_PV.mhd') \n",
    "image_array3, meta_header3 = mhd_utils_3d.load_raw_data_with_mhd(path+'/Cyst_PV_Tumor/TumorMask_Srr110_PV.mhd')\n",
    "data_indx=0\n",
    "chose_i=[]\n",
    "chose_l=[]\n",
    "Data_intensity=[]\n",
    "Data_label=[]\n",
    "\n",
    "gutr_intensity=[]\n",
    "gutr_label=[]\n",
    "guval_intensity=[]\n",
    "guval_label=[]\n",
    "\n",
    "for z in range(0,image_array1.shape[0]):\n",
    "    for y in range(0,image_array1.shape[1]):\n",
    "        for x in range(0,image_array1.shape[2]):       \n",
    "            if image_array2[z][y][x] == 1:\n",
    "                if image_array3[z][y][x] == 1:\n",
    "                    break\n",
    "                else:    \n",
    "                    data_indx += 1\n",
    "                    new_img1 = ((image_array1[z,y-7:y+8,x-7:x+8]*1.0)/256)\n",
    "                    intensity1 = new_img1.reshape((1,225))\n",
    "                    label_L = 0\n",
    "                    #print label_v\n",
    "                    chose_i.append(intensity1)\n",
    "                    chose_l.append(label_L)\n",
    "\n",
    "new_i=random.sample(chose_i, 2850)\n",
    "new_l=random.sample(chose_l, 2850)\n",
    "\n",
    "for i in range(0,2850):\n",
    "    Data_intensity.append(new_i[i])\n",
    "    Data_label.append(new_l[i])\n",
    "    \n",
    "random.shuffle(Data_intensity)\n",
    "\n",
    "for i in range(0,2850):\n",
    "    if i%5 != 0:\n",
    "        gutr_intensity.append(Data_intensity[i])\n",
    "        gutr_label.append(Data_label[i])\n",
    "    else:\n",
    "        guval_intensity.append(Data_intensity[i])\n",
    "        guval_label.append(Data_label[i])"
   ]
  },
  {
   "cell_type": "code",
   "execution_count": 31,
   "metadata": {
    "collapsed": true
   },
   "outputs": [],
   "source": [
    "data_indx = 0\n",
    "\n",
    "chose_i=[]\n",
    "chose_l=[]\n",
    "Data_intensity=[]\n",
    "Data_label=[]\n",
    "\n",
    "kitr_intensity=[]\n",
    "kitr_label=[]\n",
    "kival_intensity=[]\n",
    "kival_label=[]\n",
    "\n",
    "for z in range(0,image_array1.shape[0]):\n",
    "    for y in range(0,image_array1.shape[1]):\n",
    "        for x in range(0,image_array1.shape[2]):       \n",
    "            if image_array3[z][y][x] == 1:\n",
    "                data_indx += 1\n",
    "                new_img1 = ((image_array1[z,y-7:y+8,x-7:x+8]*1.0)/256)\n",
    "                intensity1 = new_img1.reshape((1,225))\n",
    "                label_T = 1\n",
    "                chose_i.append(intensity1)\n",
    "                chose_l.append(label_T)\n",
    "                \n",
    "new_i=random.sample(chose_i, 2850)\n",
    "new_l=random.sample(chose_l, 2850)\n",
    "for i in range(0,2850):\n",
    "    Data_intensity.append(new_i[i])\n",
    "    Data_label.append(new_l[i])\n",
    "               \n",
    "random.shuffle(Data_intensity)\n",
    "\n",
    "for i in range(0,2850):\n",
    "    if i%5 != 0:\n",
    "        kitr_intensity.append(Data_intensity[i])\n",
    "        kitr_label.append(Data_label[i])\n",
    "    else:\n",
    "        kival_intensity.append(Data_intensity[i])\n",
    "        kival_label.append(Data_label[i])"
   ]
  },
  {
   "cell_type": "code",
   "execution_count": 32,
   "metadata": {
    "collapsed": true
   },
   "outputs": [],
   "source": [
    "for i in range(0,4560):\n",
    "    if i%2 != 0:\n",
    "        train_listData_intensity.append(gutr_intensity[i/2])\n",
    "        train_listData_label.append(gutr_label[i/2])\n",
    "    else:\n",
    "        train_listData_intensity.append(kitr_intensity[i/2])\n",
    "        train_listData_label.append(kitr_label[i/2])\n",
    "\n",
    "for i in range(0,1140):\n",
    "    if i%2 != 0 :\n",
    "        valid_listData_intensity.append(guval_intensity[i/2])\n",
    "        valid_listData_label.append(guval_label[i/2])\n",
    "    else:\n",
    "        valid_listData_intensity.append(kival_intensity[i/2])\n",
    "        valid_listData_label.append(kival_label[i/2])"
   ]
  },
  {
   "cell_type": "code",
   "execution_count": 33,
   "metadata": {
    "collapsed": true
   },
   "outputs": [],
   "source": [
    "valid_listData=[]\n",
    "test_listData=[]\n",
    "train_listData=[]\n",
    "listData=[]\n",
    "\n",
    "valid_listData.append(valid_listData_intensity)\n",
    "valid_listData.append(valid_listData_label)\n",
    "\n",
    "train_listData.append(train_listData_intensity)\n",
    "train_listData.append(train_listData_label)\n",
    "\n",
    "listData.append(train_listData)\n",
    "listData.append(valid_listData)\n",
    "\n",
    "pickle.dump(listData, open(pkl_data,\"w\"))"
   ]
  },
  {
   "cell_type": "markdown",
   "metadata": {
    "collapsed": true
   },
   "source": [
    "---create test dataset---"
   ]
  },
  {
   "cell_type": "code",
   "execution_count": 10,
   "metadata": {
    "collapsed": false
   },
   "outputs": [],
   "source": [
    "import csv\n",
    "listData=[]\n",
    "pkl_data = \"/home/dl-box/Liver/sotsuron_data/test_data/Meta504_NC_classificate.pkl\"\n",
    "path = \"/home/dl-box/Liver/sotsuron_data/META/NC\"\n",
    "\n",
    "f = open(path+'/Meta504_NC.csv','ab')\n",
    "Write = csv.writer(f)\n",
    "\n",
    "new_img1 = []\n",
    "listData=[]\n",
    "intensity=0 \n",
    "label=0 \n",
    "\n",
    "test_listData_intensity=[]\n",
    "test_listData_label=[]\n",
    "\n",
    "image_array1, meta_header1 = mhd_utils_3d.load_raw_data_with_mhd(path+'/META504_NC.mhd')\n",
    "image_array2, meta_header2 = mhd_utils_3d.load_raw_data_with_mhd(path+'/LiverMask_Srr504_NC.mhd') \n",
    "image_array3, meta_header3 = mhd_utils_3d.load_raw_data_with_mhd(path+'/TumorMask_Srr504_NC.mhd')\n",
    "data_indx = 0\n",
    "for z in range(0,image_array1.shape[0]):\n",
    "    for y in range(0,image_array1.shape[1]):\n",
    "        for x in range(0,image_array1.shape[2]):       \n",
    "            #if image_array2[z][y][x] == 1:\n",
    "            if image_array3[z][y][x] == 1:\n",
    "\n",
    "                data_indx += 1\n",
    "                new_img1 = ((image_array1[z,y-14:y+15,x-14:x+15]*1.0)/256)\n",
    "                \n",
    "                new_img3 = ((sum(image_array3[z,y-14:y+15,x-14:x+15])))\n",
    "                new_img3 = sum(new_img3)\n",
    "                if new_img3 > 336:\n",
    "                #rint new_img1.shape\n",
    "                    intensity1 = new_img1.reshape((1,841))\n",
    "                    label_T= 0\n",
    "                    test_listData_intensity.append(intensity1)\n",
    "                    test_listData_label.append(label_T)\n",
    "\n",
    "                    listData.append(np.array([x,y,z]))\n",
    "\n",
    "for i in range(len(listData)):\n",
    "    Write.writerow((listData[i]))\n",
    "f.close()    \n"
   ]
  },
  {
   "cell_type": "code",
   "execution_count": 60,
   "metadata": {
    "collapsed": true
   },
   "outputs": [],
   "source": [
    "listData=[]\n",
    "f = open(path+'/Cyst_data1102/liver_data/output_029.csv','ab')\n",
    "Write = csv.writer(f)\n",
    "\n",
    "for z in range(0,image_array1.shape[0]):\n",
    "    for y in range(0,image_array1.shape[1]):\n",
    "        for x in range(0,image_array1.shape[2]):       \n",
    "            if image_array3[z][y][x] == 1:\n",
    "                data_indx += 1\n",
    "                new_img1 = ((image_array1[z,y-14:y+15,x-14:x+15]*1.0)/256)\n",
    "                intensity1 = new_img1.reshape((1,841))\n",
    "                label_T = 1\n",
    "                test_listData_intensity.append(intensity1)\n",
    "                test_listData_label.append(label_T)\n",
    "                \n",
    "                listData.append(np.array([x,y,z]))\n",
    "\n",
    "for i in range(len(listData)):\n",
    "    Write.writerow((listData[i]))\n",
    "f.close()   "
   ]
  },
  {
   "cell_type": "code",
   "execution_count": 11,
   "metadata": {
    "collapsed": true
   },
   "outputs": [],
   "source": [
    "test_listData=[]\n",
    "listData=[]\n",
    "\n",
    "test_listData.append(test_listData_intensity)\n",
    "test_listData.append(test_listData_label)\n",
    "\n",
    "listData.append(test_listData)\n",
    "\n",
    "pickle.dump(listData, open(pkl_data,\"w\"))"
   ]
  },
  {
   "cell_type": "code",
   "execution_count": null,
   "metadata": {
    "collapsed": true
   },
   "outputs": [],
   "source": []
  }
 ],
 "metadata": {
  "kernelspec": {
   "display_name": "Python 2",
   "language": "python",
   "name": "python2"
  },
  "language_info": {
   "codemirror_mode": {
    "name": "ipython",
    "version": 2
   },
   "file_extension": ".py",
   "mimetype": "text/x-python",
   "name": "python",
   "nbconvert_exporter": "python",
   "pygments_lexer": "ipython2",
   "version": "2.7.13"
  }
 },
 "nbformat": 4,
 "nbformat_minor": 0
}
