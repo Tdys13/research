{
 "cells": [
  {
   "cell_type": "code",
   "execution_count": null,
   "metadata": {
    "collapsed": true
   },
   "outputs": [],
   "source": [
    "%reload_ext autoreload\n",
    "%autoreload 2\n",
    "\n",
    "import numpy as np\n",
    "import sys\n",
    "import mhd_utils_3d \n",
    "import mhd_utils_3d_short\n",
    "import mhd_utils_3d_ushort\n",
    "from PIL import Image\n",
    "import os\n",
    "\n",
    "path = \"/home/dl-box/Liver/sotsuron_data/META/ART\"\n",
    "image_array1, meta_header1 = mhd_utils_3d_short.load_raw_data_with_mhd(path+'/Srr505_ART.mhd')\n",
    "image_array2, meta_header2 = mhd_utils_3d_short.load_raw_data_with_mhd(path+'/LiverMask_Srr505_ART.mhd')"
   ]
  },
  {
   "cell_type": "code",
   "execution_count": null,
   "metadata": {
    "collapsed": true
   },
   "outputs": [],
   "source": [
    "image_array3 = image_array1*image_array2\n",
    "meta_header1\n",
    "meta_header1['ElementSpacing']\n",
    "meta_header1['ElementSpacing']='0.771484 0.771484 5'\n",
    "meta_header1['ElementDataFile']='META505_ART.raw'\n",
    "mhd_utils_3d.write_meta_header(path+'/META505_ART.mhd',meta_header1)\n",
    "mhd_utils_3d.dump_raw_data(path+'/META505_ART.raw',image_array3)"
   ]
  },
  {
   "cell_type": "code",
   "execution_count": null,
   "metadata": {
    "collapsed": true
   },
   "outputs": [],
   "source": []
  }
 ],
 "metadata": {
  "kernelspec": {
   "display_name": "Python 2",
   "language": "python",
   "name": "python2"
  },
  "language_info": {
   "codemirror_mode": {
    "name": "ipython",
    "version": 2
   },
   "file_extension": ".py",
   "mimetype": "text/x-python",
   "name": "python",
   "nbconvert_exporter": "python",
   "pygments_lexer": "ipython2",
   "version": "2.7.13"
  }
 },
 "nbformat": 4,
 "nbformat_minor": 0
}
